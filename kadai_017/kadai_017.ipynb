{
  "nbformat": 4,
  "nbformat_minor": 0,
  "metadata": {
    "colab": {
      "provenance": []
    },
    "kernelspec": {
      "name": "python3",
      "display_name": "Python 3"
    },
    "language_info": {
      "name": "python"
    }
  },
  "cells": [
    {
      "cell_type": "code",
      "execution_count": 23,
      "metadata": {
        "id": "IE_CIrrdVNZ1"
      },
      "outputs": [],
      "source": [
        "#クラスを定義\n",
        "class Human:\n",
        "  def __init__(self,name,age):\n",
        "    self.name = name\n",
        "    self.age =age\n",
        "\n",
        "#メソットを定義\n",
        "  def check_adult(self):\n",
        "    if self.age >= 20:\n",
        "      print(f\"{self.name}さんは大人です\")\n",
        "    else:\n",
        "      print(f\"{self.name}さんは未成年です\")\n",
        "\n",
        "  def check_adult2(self):\n",
        "    for name,age in profiles.items():\n",
        "      if age >= 20:\n",
        "        print(f\"{name}さんは大人です\")\n",
        "      else:\n",
        "        print(f\"{name}さんは未成年です\")"
      ]
    },
    {
      "cell_type": "code",
      "source": [
        "#インスタンス化　個人用\n",
        "kogarasu = Human(\"小鴉\", 39)\n",
        "kogarasu.check_adult()"
      ],
      "metadata": {
        "colab": {
          "base_uri": "https://localhost:8080/"
        },
        "id": "yOWPRYB9XVY9",
        "outputId": "54c27d03-b629-48cb-fbe8-11906eddca7f"
      },
      "execution_count": 24,
      "outputs": [
        {
          "output_type": "stream",
          "name": "stdout",
          "text": [
            "小鴉さんは大人です\n"
          ]
        }
      ]
    },
    {
      "cell_type": "code",
      "source": [
        "# インスタンス化 全員表示\n",
        "profiles = {\"小鴉\": 39, \"佐藤\": 18, \"斎藤\": 20, \"伊藤\": 31, \"加藤\": 45}\n",
        "Human.check_adult2(profiles)"
      ],
      "metadata": {
        "colab": {
          "base_uri": "https://localhost:8080/"
        },
        "id": "A_JnjlOVU71i",
        "outputId": "d4b1d280-810d-4db6-bda3-d0f188babbe1"
      },
      "execution_count": 25,
      "outputs": [
        {
          "output_type": "stream",
          "name": "stdout",
          "text": [
            "小鴉さんは大人です\n",
            "佐藤さんは未成年です\n",
            "斎藤さんは大人です\n",
            "伊藤さんは大人です\n",
            "加藤さんは大人です\n"
          ]
        }
      ]
    }
  ]
}