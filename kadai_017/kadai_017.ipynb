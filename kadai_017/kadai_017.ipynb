{
  "cells": [
    {
      "cell_type": "code",
      "execution_count": 47,
      "metadata": {
        "id": "IE_CIrrdVNZ1"
      },
      "outputs": [],
      "source": [
        "#クラスを定義\n",
        "class Human:\n",
        "  def __init__(self,name,age):\n",
        "    self.name = name\n",
        "    self.age =age\n",
        "\n",
        "#メソットを定義\n",
        "  def check_adult(self):\n",
        "    if self.age >= 20:\n",
        "      print(f\"{self.name}さんは大人です\")\n",
        "    else:\n",
        "      print(f\"{self.name}さんは未成年です\")\n",
        "\n",
        "\n",
        "#個人プロフィール\n",
        "kogarasu = Human(\"小鴉\", 39)\n",
        "sato = Human(\"佐藤\", 18)\n",
        "saito = Human(\"斎藤\", 20)\n",
        "ito = Human(\"伊藤\", 31)\n",
        "kato = Human(\"加藤\", 45)\n",
        "\n",
        "#辞書\n",
        "profiles = {\"小鴉\": 39, \"佐藤\": 18, \"斎藤\": 20, \"伊藤\": 31, \"加藤\": 45}"
      ]
    },
    {
      "cell_type": "code",
      "execution_count": 50,
      "metadata": {},
      "outputs": [
        {
          "name": "stdout",
          "output_type": "stream",
          "text": [
            "小鴉さんは大人です\n",
            "佐藤さんは未成年です\n",
            "斎藤さんは大人です\n",
            "伊藤さんは大人です\n",
            "加藤さんは大人です\n"
          ]
        }
      ],
      "source": [
        "#全員表示 インスタンス化\n",
        "for name,age in profiles.items():\n",
        "  person = Human(name,age)\n",
        "  person.check_adult()\n"
      ]
    },
    {
      "cell_type": "code",
      "execution_count": 49,
      "metadata": {},
      "outputs": [
        {
          "name": "stdout",
          "output_type": "stream",
          "text": [
            "小鴉さんは大人です\n",
            "佐藤さんは未成年です\n",
            "斎藤さんは大人です\n",
            "伊藤さんは大人です\n",
            "加藤さんは大人です\n"
          ]
        }
      ],
      "source": [
        "#個人表示 インスタンス化\n",
        "kogarasu.check_adult()\n",
        "sato.check_adult()\n",
        "saito.check_adult()\n",
        "ito.check_adult()\n",
        "kato.check_adult()"
      ]
    },
    {
      "cell_type": "code",
      "execution_count": null,
      "metadata": {},
      "outputs": [],
      "source": []
    }
  ],
  "metadata": {
    "colab": {
      "provenance": []
    },
    "kernelspec": {
      "display_name": "Python 3",
      "name": "python3"
    },
    "language_info": {
      "codemirror_mode": {
        "name": "ipython",
        "version": 3
      },
      "file_extension": ".py",
      "mimetype": "text/x-python",
      "name": "python",
      "nbconvert_exporter": "python",
      "pygments_lexer": "ipython3",
      "version": "3.12.3"
    }
  },
  "nbformat": 4,
  "nbformat_minor": 0
}
