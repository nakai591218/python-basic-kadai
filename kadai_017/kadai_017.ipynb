{
  "nbformat": 4,
  "nbformat_minor": 0,
  "metadata": {
    "colab": {
      "provenance": []
    },
    "kernelspec": {
      "name": "python3",
      "display_name": "Python 3"
    },
    "language_info": {
      "name": "python"
    }
  },
  "cells": [
    {
      "cell_type": "code",
      "execution_count": 15,
      "metadata": {
        "id": "IE_CIrrdVNZ1"
      },
      "outputs": [],
      "source": [
        "#クラスを定義\n",
        "class Human:\n",
        "  def __init__(self,name,age):\n",
        "    self.name = name\n",
        "    self.age =age\n",
        "\n",
        "#メソットを定義\n",
        "  def check_adult(self):\n",
        "    if self.age >= 20:\n",
        "      print(f\"{self.name}さんは大人です\")\n",
        "    else:\n",
        "      print(f\"{self.name}さんは未成年です\")\n",
        "\n",
        "\n",
        "#インスタンス化\n",
        "kogarasu = Human(\"小鴉\",39)"
      ]
    },
    {
      "cell_type": "code",
      "source": [
        "kogarasu.check_adult()"
      ],
      "metadata": {
        "colab": {
          "base_uri": "https://localhost:8080/"
        },
        "id": "lD9JSinKVep0",
        "outputId": "c74a958d-a247-44df-c913-47992b1fa74e"
      },
      "execution_count": 13,
      "outputs": [
        {
          "output_type": "stream",
          "name": "stdout",
          "text": [
            "小鴉さんは未成年です\n"
          ]
        }
      ]
    },
    {
      "cell_type": "code",
      "source": [
        "#クラスを定義\n",
        "class Human:\n",
        "  def __init__(self,name,age):\n",
        "    self.name = name\n",
        "    self.age =age\n",
        "\n",
        "#メソットを定義\n",
        "  def check_adult(self):\n",
        "    if self.age >= 20:\n",
        "      print(f\"{self.name}さんは大人です\")\n",
        "    else:\n",
        "      print(f\"{self.name}さんは未成年です\")\n",
        "\n",
        "\n",
        "#インスタンス化\n",
        "kogarasu = Human(\"小鴉\",19)"
      ],
      "metadata": {
        "id": "z8FQJNauWxeF"
      },
      "execution_count": 19,
      "outputs": []
    },
    {
      "cell_type": "code",
      "source": [
        "kogarasu.check_adult()"
      ],
      "metadata": {
        "colab": {
          "base_uri": "https://localhost:8080/"
        },
        "id": "yOWPRYB9XVY9",
        "outputId": "7bc8c61c-a589-43fb-b852-7cee84ec4d9e"
      },
      "execution_count": 20,
      "outputs": [
        {
          "output_type": "stream",
          "name": "stdout",
          "text": [
            "小鴉さんは未成年です\n"
          ]
        }
      ]
    }
  ]
}