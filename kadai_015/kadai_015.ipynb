{
  "nbformat": 4,
  "nbformat_minor": 0,
  "metadata": {
    "colab": {
      "provenance": []
    },
    "kernelspec": {
      "name": "python3",
      "display_name": "Python 3"
    },
    "language_info": {
      "name": "python"
    }
  },
  "cells": [
    {
      "cell_type": "code",
      "execution_count": 68,
      "metadata": {
        "id": "Zq-wt4z_Iiq2"
      },
      "outputs": [],
      "source": [
        "#クラスを定義する\n",
        "class Human:\n",
        "  def __init__(self,name,age):\n",
        "    self.name = name\n",
        "    self.age = age\n",
        "\n",
        "#メソットを定義する\n",
        "  def printinfo(self):\n",
        "      print(self.name,self.age)\n",
        "\n",
        "#インスタンス化\n",
        "kogarasu = Human(\"小鴉\",39)"
      ]
    },
    {
      "cell_type": "code",
      "source": [
        "kogarasu.printinfo()"
      ],
      "metadata": {
        "colab": {
          "base_uri": "https://localhost:8080/"
        },
        "id": "rq87Ez2sJnjI",
        "outputId": "dc1183d2-1604-4531-8cc8-bae6601e3f6f"
      },
      "execution_count": 69,
      "outputs": [
        {
          "output_type": "stream",
          "name": "stdout",
          "text": [
            "小鴉 39\n"
          ]
        }
      ]
    },
    {
      "cell_type": "code",
      "source": [
        "#クラスを定義する\n",
        "class Human:\n",
        "  def __init__(self,name,age):\n",
        "    self.name = name\n",
        "    self.age = age\n",
        "\n",
        "#メソットを定義する\n",
        "  def printinfo(self,name):\n",
        "      print(f\"私は{self.name}です,年齢は{self.age}です。{name}です！\")\n",
        "\n",
        "#インスタンス化\n",
        "kogarasu = Human(\"小鴉\",39)"
      ],
      "metadata": {
        "id": "TL8uJFLjQm8F"
      },
      "execution_count": 72,
      "outputs": []
    },
    {
      "cell_type": "code",
      "source": [
        "kogarasu.printinfo(\"本人\")"
      ],
      "metadata": {
        "colab": {
          "base_uri": "https://localhost:8080/"
        },
        "id": "_9tEjlsOSOBE",
        "outputId": "10feb155-4153-45c0-bf2c-8db4232a937c"
      },
      "execution_count": 73,
      "outputs": [
        {
          "output_type": "stream",
          "name": "stdout",
          "text": [
            "私は小鴉です,年齢は39です。本人です！\n"
          ]
        }
      ]
    },
    {
      "cell_type": "code",
      "source": [],
      "metadata": {
        "id": "GOj1EVCDSSkF"
      },
      "execution_count": null,
      "outputs": []
    }
  ]
}